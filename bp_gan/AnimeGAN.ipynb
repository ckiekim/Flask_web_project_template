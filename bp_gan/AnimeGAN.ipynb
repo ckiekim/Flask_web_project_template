{
 "cells": [
  {
   "cell_type": "code",
   "execution_count": 62,
   "metadata": {},
   "outputs": [],
   "source": [
    "from selenium import webdriver\n",
    "from selenium.webdriver.common.by import By\n",
    "from selenium.webdriver.common.action_chains import ActionChains\n",
    "from bs4 import BeautifulSoup\n",
    "import urllib.request\n",
    "import time\n",
    "import pyautogui        # conda install -c conda-forge pyautogui"
   ]
  },
  {
   "cell_type": "code",
   "execution_count": 79,
   "metadata": {},
   "outputs": [],
   "source": [
    "url = 'https://huggingface.co/spaces/akhaliq/AnimeGANv2'\n",
    "driver = webdriver.Chrome('chromedriver')\n",
    "driver.get(url)"
   ]
  },
  {
   "cell_type": "code",
   "execution_count": 80,
   "metadata": {},
   "outputs": [],
   "source": [
    "# iframe 전환\n",
    "driver.switch_to.frame('iFrameResizer0')"
   ]
  },
  {
   "cell_type": "code",
   "execution_count": 81,
   "metadata": {},
   "outputs": [],
   "source": [
    "# 이미지 업로드\n",
    "upload = driver.find_element(By.CSS_SELECTOR, 'input.hidden-upload.hidden')\n",
    "upload.send_keys('c:\\\\Users\\\\student\\\\Pictures\\\\girl.png')"
   ]
  },
  {
   "cell_type": "code",
   "execution_count": 82,
   "metadata": {},
   "outputs": [],
   "source": [
    "# 제출하기 버튼 클릭\n",
    "button = driver.find_element(By.CSS_SELECTOR, 'button.gr-button.gr-button-lg.gr-button-primary.self-start')\n",
    "button.click()"
   ]
  },
  {
   "cell_type": "code",
   "execution_count": 84,
   "metadata": {},
   "outputs": [
    {
     "data": {
      "text/plain": [
       "('00000001.jpg', <email.message.Message at 0x27611194be0>)"
      ]
     },
     "execution_count": 84,
     "metadata": {},
     "output_type": "execute_result"
    }
   ],
   "source": [
    "ani_img = driver.find_element(By.XPATH, '//*[@id=\"2\"]/img')\n",
    "img_url = ani_img.get_attribute('src')\n",
    "urllib.request.urlretrieve(img_url, \"00000001.jpg\")"
   ]
  },
  {
   "cell_type": "code",
   "execution_count": 85,
   "metadata": {},
   "outputs": [],
   "source": [
    "driver.close()"
   ]
  },
  {
   "cell_type": "code",
   "execution_count": null,
   "metadata": {},
   "outputs": [],
   "source": []
  },
  {
   "cell_type": "code",
   "execution_count": null,
   "metadata": {},
   "outputs": [],
   "source": [
    "\n"
   ]
  }
 ],
 "metadata": {
  "kernelspec": {
   "display_name": "Python 3.9.12 ('base')",
   "language": "python",
   "name": "python3"
  },
  "language_info": {
   "codemirror_mode": {
    "name": "ipython",
    "version": 3
   },
   "file_extension": ".py",
   "mimetype": "text/x-python",
   "name": "python",
   "nbconvert_exporter": "python",
   "pygments_lexer": "ipython3",
   "version": "3.9.12"
  },
  "orig_nbformat": 4,
  "vscode": {
   "interpreter": {
    "hash": "260f019dbdd165b2a66e5fc9588a8f81e21ca9655b1d8c64e54a883dbdaf6a75"
   }
  }
 },
 "nbformat": 4,
 "nbformat_minor": 2
}
